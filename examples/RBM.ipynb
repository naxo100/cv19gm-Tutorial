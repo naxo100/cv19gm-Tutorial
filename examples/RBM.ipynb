{
 "cells": [
  {
   "cell_type": "markdown",
   "metadata": {},
   "source": [
    "# RBM models\n",
    "An example of a simple SEIR model written on kappa;"
   ]
  },
  {
   "cell_type": "code",
   "execution_count": null,
   "metadata": {},
   "outputs": [],
   "source": [
    "!cat ../cv19gm/kappa/SEIR-base.xka"
   ]
  },
  {
   "cell_type": "markdown",
   "metadata": {},
   "source": [
    "### Pandemic-Suite\n",
    "Using common configuration files for pandemic models, we can simulate similar models using ODEs or RBM aproach."
   ]
  },
  {
   "cell_type": "code",
   "execution_count": 1,
   "metadata": {
    "scrolled": false
   },
   "outputs": [
    {
     "name": "stdout",
     "output_type": "stream",
     "text": [
      "# Pandemic Suite Configuration File\t\t\r\n",
      "\r\n",
      "title = 'Example of a SEIR Configuration File'\r\n",
      "date = '2021-04-20'\r\n",
      "user = 'Samuel'\r\n",
      "\r\n",
      "[model]\r\n",
      "\tname = \"SEIR-byage\"\r\n",
      "\tcompartments  = ['S','E','I','R'] \r\n",
      "\ttype = \"RBM\"\r\n",
      "\t\r\n",
      "\r\n",
      "[data]\r\n",
      "\t# Real data will set initial conditions and will be available to be plotted and to calculate errors\t\r\n",
      "\tdatafile = false # File path for importing data from file \r\n",
      "\timportdata = false # Import data from external source\r\n",
      "\r\n",
      "\t# parameters to use when importing from external sources \r\n",
      "\tinitdate = ''\r\n",
      "\tcountry = ''\r\n",
      "\tstate = ''\r\n",
      "\tcounty = ''#'13101'\r\n",
      "\thealthservice = ''\r\n",
      "\tloc_name= '' # optional \r\n",
      "\r\n",
      "\r\n",
      "[parameters]\r\n",
      "\t[parameters.static]\r\n",
      "\tt_init = 0 # Initial day\r\n",
      "\tt_end = 500 # Final day\r\n",
      "\ttimestep = 0.01 # Timestep for solver\r\n",
      "\t\r\n",
      "\t# Saturation dynamic\r\n",
      "\tk_I = 0\r\n",
      "\tk_R = 0\r\n",
      "\r\n",
      "\tseroprevfactor = 1 # Fraction of the total population that take part on the dynamic at the beginning\r\n",
      "\texpinfection = 0 # Factor in which exposed infect, default is 0\r\n",
      "\r\n",
      "\tmu = 0.5 # E(0) = mu*I(0)\r\n",
      "\t\r\n",
      "\t# Subreport\r\n",
      "\tpI_det = 1\t\t\r\n",
      "\t\r\n",
      "\t[parameters.dynamic]\r\n",
      "\tbeta = 0.2\r\n",
      "\talpha = 1\r\n",
      "\t\r\n",
      "\t# External flux rates over time \r\n",
      "\tS_f = 0#'{\"function\":\"Events\",\"values\":[10000,-10000],\"days\":[[190,200],[210,220]]}'\r\n",
      "\tE_f = 0\r\n",
      "\tI_f = 0\r\n",
      "\tR_f = 0\t\r\n",
      "\t\r\n",
      "\t# -------------------------- #\r\n",
      "\t#   Transition Parameters    # \r\n",
      "\t# -------------------------- #\t\r\n",
      "\t# Transition time between exposed and infectious\r\n",
      "        tE_I = 5.0 # 1/sigma\r\n",
      "\t# Transition time between infectious and removed\r\n",
      "        tI_R = 10.0 # 1/gamma\r\n",
      "\t\r\n",
      "\t# Average Immunity loss rate (1/time)\r\n",
      "\trR_S = 0 \r\n",
      "\t\r\n",
      "[initialconditions]\r\n",
      "\t# total population in area\r\n",
      "\tpopulation = 100000\r\n",
      "\r\n",
      "\t# Recovered\t\r\n",
      "\tR = 0\r\n",
      "\r\n",
      "\t# Infected\r\n",
      "\t# Note: In case real and detected values are >0, real value will be used\r\n",
      "\t# Active Infected\r\n",
      "\tI = 0.0001\t# Real Infected\r\n",
      "\r\n",
      "\r\n",
      "\t# Leave E and E_d as false for using mu\r\n",
      "\t#E = false\r\n",
      "\t#E_d = false\r\n",
      "\t\r\n",
      "\r\n",
      "\t\r\n",
      "\r\n"
     ]
    }
   ],
   "source": [
    "cfg = '../cfg-files/SEIR-by_age.toml'\n",
    "!cat {cfg}"
   ]
  },
  {
   "cell_type": "code",
   "execution_count": 2,
   "metadata": {},
   "outputs": [],
   "source": [
    "import sys\n",
    "#print(sys.path)\n",
    "#sys.path.clear()\n",
    "if('../cv19gm/' not in sys.path):\n",
    "    sys.path.append('../cv19gm/')\n",
    "import RBM\n",
    "\n",
    "model = RBM.SEIR(cfg)\n",
    "\n"
   ]
  },
  {
   "cell_type": "code",
   "execution_count": 3,
   "metadata": {},
   "outputs": [
    {
     "name": "stdout",
     "output_type": "stream",
     "text": [
      "{'-i': '../cv19gm/kappa/SEIR-by_age.xka', '-r': '1', '-t': '500', '-p': '500', '--verbose': '1'}\n",
      "\n",
      "c++: cout verbose\n",
      "c++: clog verbose\n",
      "Temp-file was already closed.\n"
     ]
    },
    {
     "data": {
      "text/plain": [
       "<KaXim.Results at 0x7f8d941a7e70>"
      ]
     },
     "execution_count": 3,
     "metadata": {},
     "output_type": "execute_result"
    }
   ],
   "source": [
    "\n",
    "result = model.kappa_sim(True)\n",
    "#model.integrate()\n",
    "result"
   ]
  },
  {
   "cell_type": "code",
   "execution_count": 4,
   "metadata": {},
   "outputs": [
    {
     "name": "stdout",
     "output_type": "stream",
     "text": [
      "Average Trajectory\n",
      "SD\n",
      "Trajectory\n"
     ]
    },
    {
     "data": {
      "text/html": [
       "<div>\n",
       "<style scoped>\n",
       "    .dataframe tbody tr th:only-of-type {\n",
       "        vertical-align: middle;\n",
       "    }\n",
       "\n",
       "    .dataframe tbody tr th {\n",
       "        vertical-align: top;\n",
       "    }\n",
       "\n",
       "    .dataframe thead th {\n",
       "        text-align: right;\n",
       "    }\n",
       "</style>\n",
       "<table border=\"1\" class=\"dataframe\">\n",
       "  <thead>\n",
       "    <tr style=\"text-align: right;\">\n",
       "      <th></th>\n",
       "      <th>Susceptible</th>\n",
       "      <th>Exposed</th>\n",
       "      <th>Infected</th>\n",
       "      <th>Removed</th>\n",
       "      <th>Daily Exposed</th>\n",
       "      <th>Daily Infected</th>\n",
       "      <th>Daily Removed</th>\n",
       "      <th>Daily Inmunized</th>\n",
       "    </tr>\n",
       "  </thead>\n",
       "  <tbody>\n",
       "    <tr>\n",
       "      <th>0.0</th>\n",
       "      <td>9985.0</td>\n",
       "      <td>5.0</td>\n",
       "      <td>10.0</td>\n",
       "      <td>0.0</td>\n",
       "      <td>0.0</td>\n",
       "      <td>0.0</td>\n",
       "      <td>0.0</td>\n",
       "      <td>0.0</td>\n",
       "    </tr>\n",
       "    <tr>\n",
       "      <th>1.0</th>\n",
       "      <td>9981.0</td>\n",
       "      <td>9.0</td>\n",
       "      <td>8.0</td>\n",
       "      <td>2.0</td>\n",
       "      <td>4.0</td>\n",
       "      <td>0.0</td>\n",
       "      <td>2.0</td>\n",
       "      <td>0.0</td>\n",
       "    </tr>\n",
       "    <tr>\n",
       "      <th>2.0</th>\n",
       "      <td>9979.0</td>\n",
       "      <td>7.0</td>\n",
       "      <td>12.0</td>\n",
       "      <td>2.0</td>\n",
       "      <td>6.0</td>\n",
       "      <td>4.0</td>\n",
       "      <td>2.0</td>\n",
       "      <td>0.0</td>\n",
       "    </tr>\n",
       "    <tr>\n",
       "      <th>3.0</th>\n",
       "      <td>9975.0</td>\n",
       "      <td>10.0</td>\n",
       "      <td>11.0</td>\n",
       "      <td>4.0</td>\n",
       "      <td>10.0</td>\n",
       "      <td>5.0</td>\n",
       "      <td>4.0</td>\n",
       "      <td>0.0</td>\n",
       "    </tr>\n",
       "    <tr>\n",
       "      <th>4.0</th>\n",
       "      <td>9974.0</td>\n",
       "      <td>9.0</td>\n",
       "      <td>9.0</td>\n",
       "      <td>8.0</td>\n",
       "      <td>11.0</td>\n",
       "      <td>7.0</td>\n",
       "      <td>8.0</td>\n",
       "      <td>0.0</td>\n",
       "    </tr>\n",
       "    <tr>\n",
       "      <th>...</th>\n",
       "      <td>...</td>\n",
       "      <td>...</td>\n",
       "      <td>...</td>\n",
       "      <td>...</td>\n",
       "      <td>...</td>\n",
       "      <td>...</td>\n",
       "      <td>...</td>\n",
       "      <td>...</td>\n",
       "    </tr>\n",
       "    <tr>\n",
       "      <th>219.0</th>\n",
       "      <td>1193.0</td>\n",
       "      <td>1.0</td>\n",
       "      <td>1.0</td>\n",
       "      <td>8805.0</td>\n",
       "      <td>8792.0</td>\n",
       "      <td>8796.0</td>\n",
       "      <td>8805.0</td>\n",
       "      <td>0.0</td>\n",
       "    </tr>\n",
       "    <tr>\n",
       "      <th>220.0</th>\n",
       "      <td>1193.0</td>\n",
       "      <td>1.0</td>\n",
       "      <td>1.0</td>\n",
       "      <td>8805.0</td>\n",
       "      <td>8792.0</td>\n",
       "      <td>8796.0</td>\n",
       "      <td>8805.0</td>\n",
       "      <td>0.0</td>\n",
       "    </tr>\n",
       "    <tr>\n",
       "      <th>221.0</th>\n",
       "      <td>1193.0</td>\n",
       "      <td>1.0</td>\n",
       "      <td>1.0</td>\n",
       "      <td>8805.0</td>\n",
       "      <td>8792.0</td>\n",
       "      <td>8796.0</td>\n",
       "      <td>8805.0</td>\n",
       "      <td>0.0</td>\n",
       "    </tr>\n",
       "    <tr>\n",
       "      <th>222.0</th>\n",
       "      <td>1193.0</td>\n",
       "      <td>1.0</td>\n",
       "      <td>0.0</td>\n",
       "      <td>8806.0</td>\n",
       "      <td>8792.0</td>\n",
       "      <td>8796.0</td>\n",
       "      <td>8806.0</td>\n",
       "      <td>0.0</td>\n",
       "    </tr>\n",
       "    <tr>\n",
       "      <th>223.0</th>\n",
       "      <td>1193.0</td>\n",
       "      <td>1.0</td>\n",
       "      <td>0.0</td>\n",
       "      <td>8806.0</td>\n",
       "      <td>8792.0</td>\n",
       "      <td>8796.0</td>\n",
       "      <td>8806.0</td>\n",
       "      <td>0.0</td>\n",
       "    </tr>\n",
       "  </tbody>\n",
       "</table>\n",
       "<p>224 rows × 8 columns</p>\n",
       "</div>"
      ],
      "text/plain": [
       "       Susceptible  Exposed  Infected  Removed  Daily Exposed  Daily Infected  \\\n",
       "0.0         9985.0      5.0      10.0      0.0            0.0             0.0   \n",
       "1.0         9981.0      9.0       8.0      2.0            4.0             0.0   \n",
       "2.0         9979.0      7.0      12.0      2.0            6.0             4.0   \n",
       "3.0         9975.0     10.0      11.0      4.0           10.0             5.0   \n",
       "4.0         9974.0      9.0       9.0      8.0           11.0             7.0   \n",
       "...            ...      ...       ...      ...            ...             ...   \n",
       "219.0       1193.0      1.0       1.0   8805.0         8792.0          8796.0   \n",
       "220.0       1193.0      1.0       1.0   8805.0         8792.0          8796.0   \n",
       "221.0       1193.0      1.0       1.0   8805.0         8792.0          8796.0   \n",
       "222.0       1193.0      1.0       0.0   8806.0         8792.0          8796.0   \n",
       "223.0       1193.0      1.0       0.0   8806.0         8792.0          8796.0   \n",
       "\n",
       "       Daily Removed  Daily Inmunized  \n",
       "0.0              0.0              0.0  \n",
       "1.0              2.0              0.0  \n",
       "2.0              2.0              0.0  \n",
       "3.0              4.0              0.0  \n",
       "4.0              8.0              0.0  \n",
       "...              ...              ...  \n",
       "219.0         8805.0              0.0  \n",
       "220.0         8805.0              0.0  \n",
       "221.0         8805.0              0.0  \n",
       "222.0         8806.0              0.0  \n",
       "223.0         8806.0              0.0  \n",
       "\n",
       "[224 rows x 8 columns]"
      ]
     },
     "execution_count": 4,
     "metadata": {},
     "output_type": "execute_result"
    }
   ],
   "source": [
    "result.collectHistogram()\n",
    "avg,sd = result.getAvgTrajectory()\n",
    "print(result.listTabs())\n",
    "avg.asDataFrame()"
   ]
  },
  {
   "cell_type": "code",
   "execution_count": 5,
   "metadata": {},
   "outputs": [
    {
     "ename": "IndexError",
     "evalue": "Data Table Sim[1] - Histogram of R0 (15 < age < 45)[0]",
     "output_type": "error",
     "traceback": [
      "\u001b[0;31m---------------------------------------------------------------------------\u001b[0m",
      "\u001b[0;31mIndexError\u001b[0m                                Traceback (most recent call last)",
      "\u001b[0;32m<ipython-input-5-a8ffd59b8320>\u001b[0m in \u001b[0;36m<module>\u001b[0;34m\u001b[0m\n\u001b[0;32m----> 1\u001b[0;31m \u001b[0mhist_df\u001b[0m \u001b[0;34m=\u001b[0m \u001b[0mresult\u001b[0m\u001b[0;34m.\u001b[0m\u001b[0mgetTab\u001b[0m\u001b[0;34m(\u001b[0m\u001b[0;34m'Sim[1] - Histogram of R0 (15 < age < 45)'\u001b[0m\u001b[0;34m,\u001b[0m\u001b[0;36m0\u001b[0m\u001b[0;34m)\u001b[0m\u001b[0;34m.\u001b[0m\u001b[0masDataFrame\u001b[0m\u001b[0;34m(\u001b[0m\u001b[0;34m)\u001b[0m\u001b[0;34m\u001b[0m\u001b[0;34m\u001b[0m\u001b[0m\n\u001b[0m\u001b[1;32m      2\u001b[0m \u001b[0mhist_df\u001b[0m\u001b[0;34m.\u001b[0m\u001b[0mT\u001b[0m\u001b[0;34m.\u001b[0m\u001b[0mplot\u001b[0m\u001b[0;34m(\u001b[0m\u001b[0;34m)\u001b[0m\u001b[0;34m\u001b[0m\u001b[0;34m\u001b[0m\u001b[0m\n\u001b[1;32m      3\u001b[0m \u001b[0mhist_df\u001b[0m\u001b[0;34m\u001b[0m\u001b[0;34m\u001b[0m\u001b[0m\n",
      "\u001b[0;31mIndexError\u001b[0m: Data Table Sim[1] - Histogram of R0 (15 < age < 45)[0]"
     ]
    }
   ],
   "source": [
    "hist_df = result.getTab('Sim[1] - Histogram of R0 (15 < age < 45)',0).asDataFrame()\n",
    "hist_df.T.plot()\n",
    "hist_df"
   ]
  },
  {
   "cell_type": "code",
   "execution_count": null,
   "metadata": {},
   "outputs": [],
   "source": [
    "sim_hists = []\n",
    "sim_hists.append(result.getTab('Sim[1] - Histogram of R0 (age < 15)',0).asDataFrame())\n",
    "sim_hists.append(result.getTab('Sim[1] - Histogram of R0 (15 < age < 45)',0).asDataFrame())\n",
    "sim_hists.append(result.getTab('Sim[1] - Histogram of R0 (45 < age)',0).asDataFrame())\n",
    "for hist in sim_hists:\n",
    "    print(hist['Average'].values)"
   ]
  },
  {
   "cell_type": "code",
   "execution_count": null,
   "metadata": {},
   "outputs": [],
   "source": [
    "import matplotlib.pyplot as plt\n",
    "#plt.plot(model.S)\n",
    "#plt.plot(model.E)\n",
    "avg2 = avg.asDataFrame()\n",
    "del avg2['Susceptible']\n",
    "del avg2['Vacc']\n",
    "plt = avg2.plot(yerr = sd.asDataFrame())\n",
    "#plt.plot(sd.asDataFrame()['Exposed'])"
   ]
  },
  {
   "cell_type": "code",
   "execution_count": null,
   "metadata": {},
   "outputs": [],
   "source": [
    "result.collectRawData()"
   ]
  },
  {
   "cell_type": "code",
   "execution_count": null,
   "metadata": {},
   "outputs": [],
   "source": [
    "raw = result.getRawData('R0 (age < 15)',1)\n",
    "raw"
   ]
  },
  {
   "cell_type": "code",
   "execution_count": null,
   "metadata": {},
   "outputs": [],
   "source": [
    "import sys,os,os.path\n",
    "#sys.path.append(os.path.expanduser('~/code/eol_hsrl_python'))\n",
    "%env LD_LIBRARY_PATH=/home/naxo/git/KaXim/Lib\n",
    "!echo $LD_LIBRARY_PATH\n",
    "import sys\n",
    "#print(sys.path)\n",
    "#sys.path.clear()\n",
    "if('../cv19gm/models' not in sys.path):\n",
    "    sys.path.append('../cv19gm/models')\n",
    "import RBM_seir\n",
    "\n",
    "model = RBM_seir.RBM_SEIR('../config_files/SEIRHVD-k.toml')\n",
    "result = model.kappa_sim(True,time = 100,runs = 1)\n",
    "#model.integrate()\n",
    "result"
   ]
  },
  {
   "cell_type": "code",
   "execution_count": null,
   "metadata": {},
   "outputs": [],
   "source": [
    "avg,sd = result.getAvgTrajectory()\n",
    "model.avg[model.STATES_NAMES+[\"Dead\",\"Vaccinated\"]].plot(yerr = 1*sd.asDataFrame()[model.STATES_NAMES+[\"Dead\",\"Vaccinated\"]],\n",
    "                                         ylabel = \"Population\",xlabel = \"Time (days)\")"
   ]
  },
  {
   "cell_type": "code",
   "execution_count": null,
   "metadata": {},
   "outputs": [],
   "source": [
    "#from cv19gm.models.seirhvd import SEIRHVD\n",
    "from seirhvd import SEIRHVD\n",
    "model_ode = SEIRHVD(config = '../config_files/SEIRHVD.toml')\n",
    "model_ode.solve()\n",
    "#model_ode.results[list(model.STATES)].plot(ylabel = \"Population\",xlabel = \"Time (days)\")"
   ]
  },
  {
   "cell_type": "code",
   "execution_count": null,
   "metadata": {},
   "outputs": [],
   "source": [
    "import matplotlib.pyplot as plt\n",
    "\n",
    "plt.plot(model_ode.t,model_ode.S,label='S')\n",
    "plt.plot(model_ode.t,model_ode.E,label='E')\n",
    "plt.plot(model_ode.t,model_ode.I,label='I')\n",
    "plt.plot(model_ode.t,model_ode.R,label='R')\n",
    "plt.plot(model_ode.t,model_ode.H,label='H')\n",
    "plt.plot(model_ode.t,model_ode.Iv,label='Iv')\n",
    "plt.plot(model_ode.t,model_ode.D,label='D')\n",
    "plt.xlim(0,200)\n",
    "plt.legend(loc=0)\n",
    "plt.title('SEIR from SEIRHVD lib')\n",
    "plt.show()"
   ]
  },
  {
   "cell_type": "code",
   "execution_count": null,
   "metadata": {},
   "outputs": [],
   "source": [
    "#print(model_ode.sol.y.transpose()[4])\n",
    "#print(model_ode.sol.y.transpose()[200])\n",
    "import pandas as pd\n",
    "tab = pd.DataFrame(model_ode.sol.y.transpose()[0:200],columns = model_ode.sol_cols)\n",
    "pd.set_option('display.max_rows', 201)\n",
    "tab"
   ]
  },
  {
   "cell_type": "code",
   "execution_count": null,
   "metadata": {},
   "outputs": [],
   "source": [
    "avg.asDataFrame()"
   ]
  },
  {
   "cell_type": "code",
   "execution_count": null,
   "metadata": {},
   "outputs": [],
   "source": [
    "tab = result.getTab(\"Sim[0] - Trajectory\",0)\n",
    "tab.asDataFrame()"
   ]
  },
  {
   "cell_type": "code",
   "execution_count": null,
   "metadata": {},
   "outputs": [],
   "source": []
  },
  {
   "cell_type": "code",
   "execution_count": null,
   "metadata": {},
   "outputs": [],
   "source": []
  }
 ],
 "metadata": {
  "kernelspec": {
   "display_name": "Python 3",
   "language": "python",
   "name": "python3"
  },
  "language_info": {
   "codemirror_mode": {
    "name": "ipython",
    "version": 3
   },
   "file_extension": ".py",
   "mimetype": "text/x-python",
   "name": "python",
   "nbconvert_exporter": "python",
   "pygments_lexer": "ipython3",
   "version": "3.8.10"
  }
 },
 "nbformat": 4,
 "nbformat_minor": 4
}
