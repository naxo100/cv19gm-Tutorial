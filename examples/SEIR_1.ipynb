{
 "cells": [
  {
   "cell_type": "markdown",
   "metadata": {},
   "source": [
    "# SEIR model - Example\n",
    "### Loading the libraries\n",
    "To import RBM_seir module, we add the path where RBM_seir.py is located; in this case *\"../cv19gm/\"*.  \n",
    "(or we can install EpicSuit in the system path)"
   ]
  },
  {
   "cell_type": "code",
   "execution_count": 1,
   "metadata": {},
   "outputs": [],
   "source": [
    "import sys\n",
    "if('../cv19gm' not in sys.path):\n",
    "    sys.path.append('../cv19gm')"
   ]
  },
  {
   "cell_type": "markdown",
   "metadata": {},
   "source": [
    "This module will import KaXim python bindings and will link (using ld) to KaXim library.  \n",
    "We may need to install KaXim library in the system path or add its location (folder with libKaXim.so) to $LD_LIBRARY_PATH.\n",
    "\n",
    "!important: env var has to be set before jupyter notebook runs"
   ]
  },
  {
   "cell_type": "code",
   "execution_count": 2,
   "metadata": {},
   "outputs": [
    {
     "name": "stdout",
     "output_type": "stream",
     "text": [
      "\n",
      "import toml\n",
      "import os\n",
      "import sys\n",
      "dirname = os.path.dirname(__file__)\n",
      "if(dirname+\"/../lib\" not in sys.path):\n",
      "\tsys.path.insert(1,dirname+\"/../lib\")\n",
      "#import KaXimDebug as KaXim\n",
      "import KaXim as KaXim\n",
      "import numpy as np\n",
      "\n"
     ]
    }
   ],
   "source": [
    "!head '../cv19gm/RBM_seir.py'\n",
    "!echo $LD_LIBRARY_PATH\n",
    "import RBM_seir"
   ]
  },
  {
   "cell_type": "markdown",
   "metadata": {},
   "source": [
    "### Initialize a model\n",
    "Using a model configuration file (.toml), you can load an RBM Kappa model from the available base models (located in \"../cv19gm/kappa\")."
   ]
  },
  {
   "cell_type": "code",
   "execution_count": 3,
   "metadata": {},
   "outputs": [
    {
     "name": "stdout",
     "output_type": "stream",
     "text": [
      "SEIRHVD.xka\r\n"
     ]
    }
   ],
   "source": [
    "!ls \"../cv19gm/kappa\""
   ]
  },
  {
   "cell_type": "markdown",
   "metadata": {},
   "source": [
    "The name value in the configuration file determines which kappa model to load. The parameters of the model will be set using the configuration file."
   ]
  },
  {
   "cell_type": "code",
   "execution_count": 7,
   "metadata": {},
   "outputs": [
    {
     "name": "stdout",
     "output_type": "stream",
     "text": [
      "\tname = \"SEIRHVD\"\r\n"
     ]
    }
   ],
   "source": [
    "cfg = \"../cfg-files/SEIRHVD-k.toml\"\n",
    "!cat $cfg | grep \"name =\"\n",
    "model = RBM_seir.RBM_SEIR(cfg)  #Load kappa model using cfg file"
   ]
  },
  {
   "cell_type": "markdown",
   "metadata": {},
   "source": [
    "##### Parameters\n",
    "To check which are the parameters for this model use the function *paramInfo()*.  \n",
    "You can use the name or an alias of a parameter to set its value using the config file *(.toml)*.  \n",
    "Alias can have some special behavior, like been interpreted as a percentage of population when a float value is used."
   ]
  },
  {
   "cell_type": "code",
   "execution_count": 4,
   "metadata": {},
   "outputs": [
    {
     "name": "stdout",
     "output_type": "stream",
     "text": [
      "    Name        Alias       Default  Dynamic    Description\n",
      "--  ----------  --------  ---------  ---------  ------------------------------------------------------------------------------------------------------------------------------\n",
      " 0  population                  nan  False      Initial population\n",
      " 1  I_0         I                 1  False      Initial infected, [I] as % of population if a [0,1] value is given\n",
      " 2  E_0         mu E              0  False      Initial exposed, [mu] as % of I_0, [E]  as % of population if a [0,1] value is given\n",
      " 3  R_0         R                 0  False      Initial recovered, [R] as % of population if a [0,1] value is given\n",
      " 4  H_0         H                 0  False      Initial hostpitalized, [H] as % of population if a [0,1] value is given\n",
      " 5  D_0         D                 0  False      Initial dead, [D] as % of population if a [0,1] value is given\n",
      " 6  Sv_0        V_0 Sv            0  False      Initial vaccinated suscp., [V_0] as a % of S_0 if [0,1] value else as S_0/population % of V_0, [Sv] as % of S_0 if [0,1] value\n",
      " 7  Ev_0        V_0 Ev            0  False      Initial vaccinated Expsd., [V_0] as a % of E_0 if [0,1] value else as E_0/population % of V_0, [Ev] as % of E_0 if [0,1] value\n",
      " 8  Iv_0        V_0 Iv            0  False      Initial vaccinated infct., [V_0] as a % of I_0 if [0,1] value else as I_0/population % of V_0, [Iv] as % of I_0 if [0,1] value\n",
      " 9  Rv_0        V_0 Rv            0  False      Initial vaccinated rcvrd., [V_0] as a % of R_0 if [0,1] value else as R_0/population % of V_0, [Rv] as % of R_0 if [0,1] value\n",
      "10  S_f         Flux S_f          0  True       Suscp. flux, [Flux] as a % of S_0 if [0,1] value else as S_0/population % of Flux, [S_f] as % of S_0 if [0,1] value\n",
      "11  E_f         Flux E_f          0  True       Expsd. flux, [Flux] as a % of E_0 if [0,1] value else as E_0/population % of Flux, [E_f] as % of E_0 if [0,1] value\n",
      "12  I_f         Flux I_f          0  True       Infct. flux, [Flux] as a % of I_0 if [0,1] value else as I_0/population % of Flux, [I_f] as % of I_f if [0,1] value\n",
      "13  R_f         Flux R_f          0  True       Rcvrd. flux, [Flux] as a % of R_0 if [0,1] value else as R_0/population % of Flux, [R_f] as % of R_f if [0,1] value\n",
      "14  Sv_f        V_f Sv_f          0  True       Vacc. Suscp. flux, [V_f] as a % of Sv_0 if [0,1] value else as Sv_0/population % of Flux, [Sv_f] as % of Sv_0 if [0,1] value\n",
      "15  Ev_f        V_f Ev_f          0  True       Vacc. Suscp. flux, [V_f] as a % of Ev_0 if [0,1] value else as Ev_0/population % of Flux, [Ev_f] as % of Ev_0 if [0,1] value\n",
      "16  Iv_f        V_f Iv_f          0  True       Vacc. Suscp. flux, [V_f] as a % of Iv_0 if [0,1] value else as Iv_0/population % of Flux, [Iv_f] as % of Iv_0 if [0,1] value\n",
      "17  Rv_f        V_f Rv_f          0  True       Vacc. Suscp. flux, [V_f] as a % of Rv_0 if [0,1] value else as Rv_0/population % of Flux, [Rv_f] as % of Rv_0 if [0,1] value\n",
      "18  H_cap                         0  False      Hospital bed capability, as a % of population if [0,1] value\n",
      "19  alpha                         1  True       Movility rate\n",
      "20  beta                        nan  True       Contagious rate\n",
      "21  beta_v                        0  True       Vaccinated contagious rate\n",
      "22  vac_eff                       1  True       Vaccine effectivity rate\n",
      "23  vac_d                         0  True       Daily vaccination\n",
      "24  pE_Im                       nan  False      % to develop mild symptoms\n",
      "25  tE_Im                       nan  False      Avg. days for mild symptoms incubation\n",
      "26  pE_Icr                      nan  False      % to develop critical symptoms\n",
      "27  tE_Icr                      nan  False      Avg. days for critical symptoms incubation\n",
      "28  tEv_Iv                      nan  False      Avg. days for vaccinated incubation\n",
      "29  tIm_R                       nan  False      Avg. days for mild symp. recovery\n",
      "30  tIcr_H                      nan  False      Avg. days of crit. symp. hospitalization\n",
      "31  pIv_R                       nan  False      % of vaccinated recovery\n",
      "32  tIv_R                       nan  False      Avg. days for vaccinated recovery\n",
      "33  pIv_H                       nan  False      % of vaccinated hospitalization\n",
      "34  pH_R                        nan  False      % of hosp. recovery\n",
      "35  tH_R                        nan  False      Avg. days for hosp. recovery\n",
      "36  pH_D                        nan  False      % of hosp. deaths\n",
      "37  tH_D                        nan  False      Avg. days for hosp. death\n",
      "38  pR_S                          0  False      % of loss immunity\n",
      "39  tR_S                         90  False      Avg. days for immunity loss\n"
     ]
    }
   ],
   "source": [
    "info = RBM_seir.RBM_SEIR.paramInfo()"
   ]
  },
  {
   "cell_type": "markdown",
   "metadata": {},
   "source": [
    "### Running a simulation using EpicSuit Library\n",
    "Some arguments can be given to *kappa_sim()*: first argument is verbose level, *time* is the simulation time in days, and *runs* is the number of time-trajectories to get an average."
   ]
  },
  {
   "cell_type": "code",
   "execution_count": 8,
   "metadata": {},
   "outputs": [
    {
     "name": "stdout",
     "output_type": "stream",
     "text": [
      "{'-i': '../cv19gm/kappa/SEIRHVD.xka /tmp/tmpaay7fmrh', '-r': '10', '-t': '200', '-p': '200', '--verbose': '4'}\n",
      "%mod: [T] = 0 do $UPDATE 'alpha' 1.0\n",
      "%mod: [T] = 30 do $UPDATE 'alpha' 0.75\n",
      "%mod: [T] = 60 do $UPDATE 'alpha' 0.5\n",
      "%mod: [T] = 85 do $UPDATE 'alpha' 1.3\n",
      "\n",
      "c++: cout verbose\n",
      "c++: clog verbose\n",
      "Temp-file was already closed.\n"
     ]
    }
   ],
   "source": [
    "result = model.kappa_sim(True,time = 200,runs = 10)"
   ]
  },
  {
   "cell_type": "markdown",
   "metadata": {},
   "source": [
    "The result object is used to acquaire all the information about the simulations done.  \n",
    "Every data that has been acquired will be stored in result objet."
   ]
  },
  {
   "cell_type": "code",
   "execution_count": 14,
   "metadata": {},
   "outputs": [
    {
     "data": {
      "text/plain": [
       "{'Average Trajectory': [<KaXim.DataTable at 0x7f136a5aa370>],\n",
       " 'SD': [<KaXim.DataTable at 0x7f136a53dc30>],\n",
       " 'Sim[0] - Trajectory': [<KaXim.DataTable at 0x7f136a5a99f0>],\n",
       " 'Sim[1] - Trajectory': [<KaXim.DataTable at 0x7f136a5a95f0>],\n",
       " 'Sim[2] - Trajectory': [<KaXim.DataTable at 0x7f136a540b70>],\n",
       " 'Sim[3] - Trajectory': [<KaXim.DataTable at 0x7f136a5400f0>],\n",
       " 'Sim[4] - Trajectory': [<KaXim.DataTable at 0x7f136a5406b0>],\n",
       " 'Sim[5] - Trajectory': [<KaXim.DataTable at 0x7f136a540870>],\n",
       " 'Sim[6] - Trajectory': [<KaXim.DataTable at 0x7f136a5407b0>],\n",
       " 'Sim[7] - Trajectory': [<KaXim.DataTable at 0x7f136a540f30>],\n",
       " 'Sim[8] - Trajectory': [<KaXim.DataTable at 0x7f136a5409b0>],\n",
       " 'Sim[9] - Trajectory': [<KaXim.DataTable at 0x7f136a5401b0>]}"
      ]
     },
     "execution_count": 14,
     "metadata": {},
     "output_type": "execute_result"
    }
   ],
   "source": [
    "avg,sd = result.getAvgTrajectory()    #gets the average trajectory and its std. deviation\n",
    "result.getTabs()     #all the data needed to calculate Average"
   ]
  },
  {
   "cell_type": "markdown",
   "metadata": {},
   "source": [
    "Time trajectories show how some selected variables (aka observables) change in time.  \n",
    "The observables os this simulation are:"
   ]
  },
  {
   "cell_type": "code",
   "execution_count": 18,
   "metadata": {},
   "outputs": [
    {
     "data": {
      "text/plain": [
       "Index(['Susceptible', 'Exposed', 'Infected', 'Removed', 'Dead', 'Vaccinated',\n",
       "       'Daily Exposed', 'Daily Infected', 'Daily Removed', 'Daily Dead',\n",
       "       'Daily Inmunized', 'Daily Hosp', 'Free UTI', 'Ac.Infected', 'Ac.UTI'],\n",
       "      dtype='object')"
      ]
     },
     "execution_count": 18,
     "metadata": {},
     "output_type": "execute_result"
    }
   ],
   "source": [
    "avg_df = avg.asDataFrame()\n",
    "avg_df.columns"
   ]
  },
  {
   "cell_type": "markdown",
   "metadata": {},
   "source": [
    "You can select the more important observables to make your plot easier to understand."
   ]
  },
  {
   "cell_type": "code",
   "execution_count": 19,
   "metadata": {},
   "outputs": [
    {
     "data": {
      "text/plain": [
       "<AxesSubplot:>"
      ]
     },
     "execution_count": 19,
     "metadata": {},
     "output_type": "execute_result"
    },
    {
     "data": {
      "image/png": "[encoded data removed]",
      "text/plain": [
       "<Figure size 432x288 with 1 Axes>"
      ]
     },
     "metadata": {
      "needs_background": "light"
     },
     "output_type": "display_data"
    }
   ],
   "source": [
    "avg_df[model.STATES_NAMES].plot()"
   ]
  },
  {
   "cell_type": "code",
   "execution_count": null,
   "metadata": {},
   "outputs": [],
   "source": []
  }
 ],
 "metadata": {
  "kernelspec": {
   "display_name": "Python 3",
   "language": "python",
   "name": "python3"
  },
  "language_info": {
   "codemirror_mode": {
    "name": "ipython",
    "version": 3
   },
   "file_extension": ".py",
   "mimetype": "text/x-python",
   "name": "python",
   "nbconvert_exporter": "python",
   "pygments_lexer": "ipython3",
   "version": "3.8.10"
  }
 },
 "nbformat": 4,
 "nbformat_minor": 4
}
