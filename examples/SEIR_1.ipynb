{
 "cells": [
  {
   "cell_type": "markdown",
   "metadata": {},
   "source": [
    "# SEIR model - Example\n",
    "### Loading the libraries\n",
    "To import RBM_seir module, we add the path where RBM_seir.py is located; in this case *\"../cv19gm/\"*.  \n",
    "(or we can install EpicSuit in the system path)"
   ]
  },
  {
   "cell_type": "code",
   "execution_count": 1,
   "metadata": {},
   "outputs": [],
   "source": [
    "import sys\n",
    "if('../cv19gm' not in sys.path):\n",
    "    sys.path.append('../cv19gm')"
   ]
  },
  {
   "cell_type": "markdown",
   "metadata": {},
   "source": [
    "This module will import KaXim python bindings and will link (using ld) to KaXim library.  \n",
    "We may need to install KaXim library in the system path or add its location (folder with libKaXim.so) to $LD_LIBRARY_PATH.\n",
    "\n",
    "!important: env var has to be set before jupyter notebook runs"
   ]
  },
  {
   "cell_type": "code",
   "execution_count": 2,
   "metadata": {},
   "outputs": [
    {
     "name": "stdout",
     "output_type": "stream",
     "text": [
      "\r\n",
      "import toml\r\n",
      "import os\r\n",
      "import sys\r\n",
      "dirname = os.path.dirname(__file__)\r\n",
      "if(dirname+\"/../lib\" not in sys.path):\r\n",
      "\tsys.path.insert(1,dirname+\"/../lib\")\r\n",
      "#import KaXimDebug as KaXim\r\n",
      "import KaXimDebug as KaXim\r\n",
      "import numpy as np\r\n"
     ]
    }
   ],
   "source": [
    "!head '../cv19gm/RBM.py'"
   ]
  },
  {
   "cell_type": "code",
   "execution_count": 3,
   "metadata": {},
   "outputs": [
    {
     "name": "stdout",
     "output_type": "stream",
     "text": [
      "\r\n"
     ]
    }
   ],
   "source": [
    "!echo $LD_LIBRARY_PATH\n",
    "import RBM"
   ]
  },
  {
   "cell_type": "markdown",
   "metadata": {},
   "source": [
    "### Initialize a model\n",
    "Using a model configuration file (.toml), you can load an RBM Kappa model from the available base models (located in \"../cv19gm/kappa\")."
   ]
  },
  {
   "cell_type": "code",
   "execution_count": 4,
   "metadata": {},
   "outputs": [
    {
     "name": "stdout",
     "output_type": "stream",
     "text": [
      "SEIR-base.xka\t      SEIR-by_age.xka\tSEIRHVD_v2.xka\r\n",
      "SEIR-by_age-vac1.xka  SEIRHVD-meta.xka\tSEIRHVDv3.3.ka3\r\n",
      "SEIR-by_age-vac2.xka  SEIRHVD_v1.xka\tSEIRHVD.xka\r\n"
     ]
    }
   ],
   "source": [
    "!ls \"../cv19gm/kappa\""
   ]
  },
  {
   "cell_type": "markdown",
   "metadata": {},
   "source": [
    "The name value in the configuration file determines which kappa model to load. The parameters of the model will be set using the configuration file."
   ]
  },
  {
   "cell_type": "code",
   "execution_count": 5,
   "metadata": {},
   "outputs": [
    {
     "name": "stdout",
     "output_type": "stream",
     "text": [
      "\tname = \"SEIR\"\r\n"
     ]
    }
   ],
   "source": [
    "cfg = \"../cfg-files/SEIR.toml\"\n",
    "!cat $cfg | grep \"name =\"\n",
    "model = RBM.SEIR(cfg)  #Load kappa model using cfg file"
   ]
  },
  {
   "cell_type": "markdown",
   "metadata": {},
   "source": [
    "##### Parameters\n",
    "To check which are the parameters for this model use the function *paramInfo()*.  \n",
    "You can use the name or an alias of a parameter to set its value using the config file *(.toml)*.  \n",
    "Alias can have some special behavior, like been interpreted as a percentage of population when a float value is used.  \n",
    "If a parameter doesn't have a default value, its a mandatory parameter."
   ]
  },
  {
   "cell_type": "code",
   "execution_count": 6,
   "metadata": {},
   "outputs": [
    {
     "name": "stdout",
     "output_type": "stream",
     "text": [
      "    Name        Alias       Default  Dynamic    Description\n",
      "--  ----------  --------  ---------  ---------  -------------------------------------------------------------------------------------------------------------------\n",
      " 0  population                  nan  False      Initial population\n",
      " 1  I_0         I                 1  False      Initial infected, [I] as % of population if a [0,1] value is given\n",
      " 2  E_0         mu E              0  False      Initial exposed, [mu] as % of I_0, [E]  as % of population if a [0,1] value is given\n",
      " 3  R_0         R                 0  False      Initial recovered, [R] as % of population if a [0,1] value is given\n",
      " 4  D_0         D                 0  False      Initial dead, [D] as % of population if a [0,1] value is given\n",
      " 5  S_f         Flux S_f          0  True       Suscp. flux, [Flux] as a % of S_0 if [0,1] value else as S_0/population % of Flux, [S_f] as % of S_0 if [0,1] value\n",
      " 6  E_f         Flux E_f          0  True       Expsd. flux, [Flux] as a % of E_0 if [0,1] value else as E_0/population % of Flux, [E_f] as % of E_0 if [0,1] value\n",
      " 7  I_f         Flux I_f          0  True       Infct. flux, [Flux] as a % of I_0 if [0,1] value else as I_0/population % of Flux, [I_f] as % of I_f if [0,1] value\n",
      " 8  R_f         Flux R_f          0  True       Rcvrd. flux, [Flux] as a % of R_0 if [0,1] value else as R_0/population % of Flux, [R_f] as % of R_f if [0,1] value\n",
      " 9  beta                        nan  True       Contagious rate\n",
      "10  tE_I                        nan  False      Avg. days for symptom incubation\n",
      "11  tI_R                        nan  False      Avg. days for infection\n"
     ]
    }
   ],
   "source": [
    "info = RBM.SEIR.paramInfo()"
   ]
  },
  {
   "cell_type": "markdown",
   "metadata": {},
   "source": [
    "### Running a simulation using EpicSuit Library\n",
    "Some arguments can be given to *kappa_sim()*: first argument is verbose level, *time* is the simulation time in days, and *runs* is the number of time-trajectories to get an average."
   ]
  },
  {
   "cell_type": "code",
   "execution_count": 7,
   "metadata": {
    "scrolled": false
   },
   "outputs": [
    {
     "name": "stdout",
     "output_type": "stream",
     "text": [
      "{'-i': '../cv19gm/kappa/SEIR-base.xka', '-r': '1', '-t': '200', '-p': '200', '--verbose': '6'}\n",
      "\n",
      "c++: cout verbose\n",
      "c++: clog verbose\n",
      "Temp-file was already closed.\n"
     ]
    }
   ],
   "source": [
    "result = model.kappa_sim(verbose=6,time = 200,runs = 1)"
   ]
  },
  {
   "cell_type": "markdown",
   "metadata": {},
   "source": [
    "The result object is used to acquaire all the information about the simulations done.  \n",
    "Every data that has been acquired will be stored in result objet."
   ]
  },
  {
   "cell_type": "code",
   "execution_count": 8,
   "metadata": {},
   "outputs": [
    {
     "data": {
      "text/plain": [
       "{'Average Trajectory': [<KaXimDebug.DataTable at 0x7f9b4f83cab0>],\n",
       " 'SD': [<KaXimDebug.DataTable at 0x7f9b1d733b70>],\n",
       " 'Trajectory': [<KaXimDebug.DataTable at 0x7f9b1d6cd3f0>]}"
      ]
     },
     "execution_count": 8,
     "metadata": {},
     "output_type": "execute_result"
    }
   ],
   "source": [
    "avg,sd = result.getAvgTrajectory()    #gets the average trajectory and its std. deviation\n",
    "result.getTabs()     #all the data needed to calculate Average"
   ]
  },
  {
   "cell_type": "markdown",
   "metadata": {},
   "source": [
    "Time trajectories show how some selected variables (aka observables) change in time.  \n",
    "The observables os this simulation are:"
   ]
  },
  {
   "cell_type": "code",
   "execution_count": 9,
   "metadata": {},
   "outputs": [
    {
     "data": {
      "text/plain": [
       "Index(['Susceptible', 'Exposed', 'Infected', 'Removed', 'Daily Exposed',\n",
       "       'Daily Infected', 'Daily Removed', 'Daily Inmunized'],\n",
       "      dtype='object')"
      ]
     },
     "execution_count": 9,
     "metadata": {},
     "output_type": "execute_result"
    }
   ],
   "source": [
    "avg_df = avg.asDataFrame()\n",
    "avg_df.columns"
   ]
  },
  {
   "cell_type": "markdown",
   "metadata": {},
   "source": [
    "You can select the more important observables to make your plot easier to understand."
   ]
  },
  {
   "cell_type": "code",
   "execution_count": 10,
   "metadata": {},
   "outputs": [
    {
     "data": {
      "text/plain": [
       "<AxesSubplot:>"
      ]
     },
     "execution_count": 10,
     "metadata": {},
     "output_type": "execute_result"
    },
    {
     "data": {
      "image/png": "[encoded data removed]",
      "text/plain": [
       "<Figure size 432x288 with 1 Axes>"
      ]
     },
     "metadata": {
      "needs_background": "light"
     },
     "output_type": "display_data"
    }
   ],
   "source": [
    "avg_df[model.STATES_NAMES].plot()"
   ]
  },
  {
   "cell_type": "code",
   "execution_count": null,
   "metadata": {},
   "outputs": [],
   "source": []
  }
 ],
 "metadata": {
  "kernelspec": {
   "display_name": "Python 3",
   "language": "python",
   "name": "python3"
  },
  "language_info": {
   "codemirror_mode": {
    "name": "ipython",
    "version": 3
   },
   "file_extension": ".py",
   "mimetype": "text/x-python",
   "name": "python",
   "nbconvert_exporter": "python",
   "pygments_lexer": "ipython3",
   "version": "3.8.10"
  }
 },
 "nbformat": 4,
 "nbformat_minor": 4
}
